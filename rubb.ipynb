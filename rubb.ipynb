{
 "cells": [
  {
   "cell_type": "code",
   "execution_count": null,
   "metadata": {},
   "outputs": [],
   "source": [
    "import os\n",
    "import numpy as np\n",
    "from mindspore import context\n",
    "from scipy.spatial.distance import cdist\n",
    "\n",
    "from config.resnet_config import config\n",
    "from dataset import imgdataset, imgdataset_camtrans, create_dataset\n",
    "from st_distribution import get_st_distribution\n",
    "from utils import extract_fea_camtrans, get_info, extract_fea_test\n",
    "from resnet import ResNet, load_ms_resnet50_model, Bottleneck\n",
    "import mindspore.nn as nn\n",
    "\n",
    "\n",
    "################################################## params\n",
    "context.set_context(mode=context.PYNATIVE_MODE, device_target=\"Ascend\")\n",
    "\n",
    "dataset_path = 'data'\n",
    "ann_file_train = 'list_market/list_market_train.txt'\n",
    "ann_file_test = 'list_market/list_market_test.txt'\n",
    "\n",
    "snapshot = 'm_resnet.ckpt'\n",
    "\n",
    "num_cam = 6\n",
    "##################################################\n",
    "train_dataset_path = dataset_path + '/market_merge'\n",
    "test_dataset_path = dataset_path + '/Market-1501-v15.09.15/Market-1501-v15.09.15'\n",
    "train_dataset = create_dataset(dataset_dir=train_dataset_path, ann_file=ann_file_train, batch_size=1, state='train', num_cam=num_cam, K=num_cam)\n",
    "\n",
    "test_dataset = create_dataset(dataset_dir=test_dataset_path, ann_file=ann_file_test, state='test', batch_size=1)\n",
    "\n"
   ]
  },
  {
   "cell_type": "code",
   "execution_count": null,
   "metadata": {
    "collapsed": false,
    "jupyter": {
     "outputs_hidden": false
    },
    "pycharm": {
     "name": "#%%\n"
    }
   },
   "outputs": [],
   "source": [
    "\n",
    "\n",
    "model = ResNet(Bottleneck, [3, 4, 6, 3], config.class_num, train=False)\n",
    "model = load_ms_resnet50_model(model, snapshot)\n",
    "model.set_train(False)\n",
    "\n",
    "print('extract feature for training set')\n",
    "\n"
   ]
  },
  {
   "cell_type": "code",
   "execution_count": null,
   "metadata": {},
   "outputs": [],
   "source": [
    "\n",
    "from mindspore.common.tensor import Tensor\n",
    "from mindspore.ops import operations as P\n",
    "\n",
    "feas = []\n",
    "K = 6\n",
    "batch_size = 1\n",
    "loader = train_dataset\n",
    "\n",
    "for data in loader.create_dict_iterator():\n",
    "    columns_names_list = ['images' + str(i) for i in range(K)]\n",
    "\n",
    "#     cconcat_ = P.Concat()\n",
    "    print(\"hi!!\")\n",
    "\n",
    "    numpy_data = [data[key].asnumpy() for key in columns_names_list]\n",
    "#     concat_data = np.concatenate(numpy_data, axis=0)\n",
    "\n",
    "#     concat_images = Tensor(concat_data)\n",
    "\n",
    "#     out = model(concat_images)\n",
    "#     fea = out[2]\n",
    "\n",
    "#     fea = fea.view(1, 6, -1)\n",
    "\n",
    "#     fea = fea.mean(dim=1)\n",
    "\n",
    "#     fea = P.L2Normalize()(fea)\n",
    "\n",
    "feas = concat_using_numpy(feas)  # kuhn edted\n",
    "\n",
    "\n"
   ]
  },
  {
   "cell_type": "code",
   "execution_count": null,
   "metadata": {},
   "outputs": [],
   "source": [
    "!pip list"
   ]
  },
  {
   "cell_type": "code",
   "execution_count": null,
   "metadata": {},
   "outputs": [],
   "source": []
  }
 ],
 "metadata": {
  "kernelspec": {
   "display_name": "MindSpore",
   "language": "python",
   "name": "mindspore"
  },
  "language_info": {
   "codemirror_mode": {
    "name": "ipython",
    "version": 3
   },
   "file_extension": ".py",
   "mimetype": "text/x-python",
   "name": "python",
   "nbconvert_exporter": "python",
   "pygments_lexer": "ipython3",
   "version": "3.7.6"
  }
 },
 "nbformat": 4,
 "nbformat_minor": 4
}
